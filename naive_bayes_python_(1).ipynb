{
  "cells": [
    {
      "cell_type": "markdown",
      "metadata": {
        "id": "view-in-github",
        "colab_type": "text"
      },
      "source": [
        "<a href=\"https://colab.research.google.com/github/piyu0812/first/blob/main/naive_bayes_python_(1).ipynb\" target=\"_parent\"><img src=\"https://colab.research.google.com/assets/colab-badge.svg\" alt=\"Open In Colab\"/></a>"
      ]
    },
    {
      "cell_type": "markdown",
      "metadata": {
        "id": "igcoVKXMu_vn"
      },
      "source": [
        "#### naive bayes\n",
        "Naïve Bayes Classifier is one of the simple and most effective Classification algorithms which helps in building the fast machine learning models that can make quick predictions. It is a probabilistic classifier, which means it predicts on the basis of the probability of an object"
      ]
    },
    {
      "cell_type": "raw",
      "metadata": {
        "id": "nGX52mxhu_v5"
      },
      "source": [
        "posterior probability = likelihood*prior probability/evidence"
      ]
    },
    {
      "cell_type": "markdown",
      "metadata": {
        "id": "aSPrNgC4u_v7"
      },
      "source": [
        "or"
      ]
    },
    {
      "cell_type": "raw",
      "metadata": {
        "id": "kJrCoFxTu_v_"
      },
      "source": [
        "P(A|C) = P(C|A) P(A)/P(C)"
      ]
    },
    {
      "cell_type": "markdown",
      "metadata": {
        "id": "iTapu5vTu_wA"
      },
      "source": [
        "## Probleam Statement\n",
        "Find the prediction of  player can be playing golf game or not from the given data sets.The given input as p(outlook = sunny,temperature = cool, humdity = high ,wind = strong)"
      ]
    },
    {
      "cell_type": "markdown",
      "metadata": {
        "id": "kgZAgJ-hu_wB"
      },
      "source": [
        "## Load data set from CSV file"
      ]
    },
    {
      "cell_type": "code",
      "execution_count": null,
      "metadata": {
        "id": "kSYlfKCzu_wD"
      },
      "outputs": [],
      "source": [
        "import pandas as pd"
      ]
    },
    {
      "cell_type": "code",
      "execution_count": null,
      "metadata": {
        "id": "w3SQYqRiu_wG"
      },
      "outputs": [],
      "source": [
        "df = pd.read_csv('C:/Users/sarang.kulkarni/Desktop/DATA MINING/NAIVE_BAYES/player.csv')"
      ]
    },
    {
      "cell_type": "code",
      "execution_count": null,
      "metadata": {
        "id": "K_-eE7tEu_wH",
        "outputId": "ca6d759f-dd8a-4333-83f4-ad04c9345c0e"
      },
      "outputs": [
        {
          "data": {
            "text/html": [
              "<div>\n",
              "<style scoped>\n",
              "    .dataframe tbody tr th:only-of-type {\n",
              "        vertical-align: middle;\n",
              "    }\n",
              "\n",
              "    .dataframe tbody tr th {\n",
              "        vertical-align: top;\n",
              "    }\n",
              "\n",
              "    .dataframe thead th {\n",
              "        text-align: right;\n",
              "    }\n",
              "</style>\n",
              "<table border=\"1\" class=\"dataframe\">\n",
              "  <thead>\n",
              "    <tr style=\"text-align: right;\">\n",
              "      <th></th>\n",
              "      <th>day</th>\n",
              "      <th>outlook</th>\n",
              "      <th>temperature</th>\n",
              "      <th>humidity</th>\n",
              "      <th>wind</th>\n",
              "      <th>playgolf</th>\n",
              "    </tr>\n",
              "  </thead>\n",
              "  <tbody>\n",
              "    <tr>\n",
              "      <th>0</th>\n",
              "      <td>1</td>\n",
              "      <td>sunny</td>\n",
              "      <td>hot</td>\n",
              "      <td>high</td>\n",
              "      <td>weak</td>\n",
              "      <td>no</td>\n",
              "    </tr>\n",
              "    <tr>\n",
              "      <th>1</th>\n",
              "      <td>2</td>\n",
              "      <td>sunny</td>\n",
              "      <td>hot</td>\n",
              "      <td>high</td>\n",
              "      <td>strong</td>\n",
              "      <td>no</td>\n",
              "    </tr>\n",
              "    <tr>\n",
              "      <th>2</th>\n",
              "      <td>3</td>\n",
              "      <td>overcast</td>\n",
              "      <td>hot</td>\n",
              "      <td>high</td>\n",
              "      <td>weak</td>\n",
              "      <td>yes</td>\n",
              "    </tr>\n",
              "    <tr>\n",
              "      <th>3</th>\n",
              "      <td>4</td>\n",
              "      <td>rain</td>\n",
              "      <td>mild</td>\n",
              "      <td>high</td>\n",
              "      <td>weak</td>\n",
              "      <td>yes</td>\n",
              "    </tr>\n",
              "    <tr>\n",
              "      <th>4</th>\n",
              "      <td>5</td>\n",
              "      <td>rain</td>\n",
              "      <td>cool</td>\n",
              "      <td>normal</td>\n",
              "      <td>weak</td>\n",
              "      <td>yes</td>\n",
              "    </tr>\n",
              "  </tbody>\n",
              "</table>\n",
              "</div>"
            ],
            "text/plain": [
              "   day   outlook temperature humidity    wind playgolf\n",
              "0    1     sunny         hot     high    weak       no\n",
              "1    2     sunny         hot     high  strong       no\n",
              "2    3  overcast         hot     high    weak      yes\n",
              "3    4      rain        mild     high    weak      yes\n",
              "4    5      rain        cool   normal    weak      yes"
            ]
          },
          "execution_count": 34,
          "metadata": {},
          "output_type": "execute_result"
        }
      ],
      "source": [
        "df.head()"
      ]
    },
    {
      "cell_type": "markdown",
      "metadata": {
        "id": "XGMxoyy-u_wK"
      },
      "source": [
        "## LABEL ENCODER\n",
        " it is used to convert string or text into number like as\n",
        "  0 - overcast,\n",
        "  1 - rain,\n",
        "  2 - sunny.\n",
        " from outlook columnu in given data set."
      ]
    },
    {
      "cell_type": "code",
      "execution_count": null,
      "metadata": {
        "id": "WGOoV_O4u_wO"
      },
      "outputs": [],
      "source": [
        "from sklearn.preprocessing import LabelEncoder"
      ]
    },
    {
      "cell_type": "code",
      "execution_count": null,
      "metadata": {
        "id": "t4ZAIKtPu_wP"
      },
      "outputs": [],
      "source": [
        "label = LabelEncoder()"
      ]
    },
    {
      "cell_type": "code",
      "execution_count": null,
      "metadata": {
        "id": "7LVV0xCFu_wQ"
      },
      "outputs": [],
      "source": [
        "df.outlook = label.fit_transform(df.outlook)\n",
        "df.temperature = label.fit_transform(df.temperature)\n",
        "df.humidity = label.fit_transform(df.humidity)\n",
        "df.wind = label.fit_transform(df.wind)\n",
        "df.playgolf = label.fit_transform(df.playgolf)"
      ]
    },
    {
      "cell_type": "code",
      "execution_count": null,
      "metadata": {
        "id": "AcRsva8-u_wR",
        "outputId": "abba7f98-db3d-436f-a8ab-ed6713882429"
      },
      "outputs": [
        {
          "name": "stdout",
          "output_type": "stream",
          "text": [
            "input:\n",
            "     outlook  temperature  humidity  wind\n",
            "0         2            1         0     1\n",
            "1         2            1         0     0\n",
            "2         0            1         0     1\n",
            "3         1            2         0     1\n",
            "4         1            0         1     1\n",
            "5         1            0         0     0\n",
            "6         0            0         0     0\n",
            "7         2            2         0     1\n",
            "8         2            0         1     1\n",
            "9         1            2         0     1\n",
            "10        2            2         0     0\n",
            "11        0            2         0     0\n",
            "12        0            1         1     1\n",
            "13        1            2         0     0\n",
            "output:\n",
            " 0     0\n",
            "1     0\n",
            "2     1\n",
            "3     1\n",
            "4     1\n",
            "5     0\n",
            "6     1\n",
            "7     0\n",
            "8     1\n",
            "9     1\n",
            "10    1\n",
            "11    1\n",
            "12    1\n",
            "13    0\n",
            "Name: playgolf, dtype: int32\n"
          ]
        }
      ],
      "source": [
        "x = df[['outlook','temperature','humidity','wind']]\n",
        "y = df.playgolf\n",
        "print(\"input:\\n\",x)\n",
        "print(\"output:\\n\",y)"
      ]
    },
    {
      "cell_type": "markdown",
      "metadata": {
        "id": "Yy25T2Kxu_wS"
      },
      "source": [
        "#### Train and Test Data\n",
        " given dataset divide into two parts,\n",
        " 80% data for train data\n",
        " 20% data for test data"
      ]
    },
    {
      "cell_type": "code",
      "execution_count": null,
      "metadata": {
        "id": "cepJJhE4u_wS"
      },
      "outputs": [],
      "source": [
        "from sklearn.model_selection import train_test_split"
      ]
    },
    {
      "cell_type": "code",
      "execution_count": null,
      "metadata": {
        "id": "2ea_G8pSu_wS"
      },
      "outputs": [],
      "source": [
        "xtrain,xtest,ytrain,ytest = train_test_split(x,y,test_size=0.2,random_state=0)"
      ]
    },
    {
      "cell_type": "markdown",
      "metadata": {
        "id": "N3aaZH0Mu_wT"
      },
      "source": [
        "## Appling Naive bayes"
      ]
    },
    {
      "cell_type": "code",
      "execution_count": null,
      "metadata": {
        "id": "bhGakr30u_wT"
      },
      "outputs": [],
      "source": [
        "from sklearn.naive_bayes import GaussianNB"
      ]
    },
    {
      "cell_type": "code",
      "execution_count": null,
      "metadata": {
        "id": "vMPlj8fku_wT"
      },
      "outputs": [],
      "source": [
        "gnb = GaussianNB()"
      ]
    },
    {
      "cell_type": "code",
      "execution_count": null,
      "metadata": {
        "id": "9SkL0fwyu_wU",
        "outputId": "4b377ae8-de86-4156-fe5e-ba2b21b1006b"
      },
      "outputs": [
        {
          "data": {
            "text/plain": [
              "GaussianNB()"
            ]
          },
          "execution_count": 43,
          "metadata": {},
          "output_type": "execute_result"
        }
      ],
      "source": [
        "gnb.fit(xtrain,ytrain)"
      ]
    },
    {
      "cell_type": "code",
      "execution_count": null,
      "metadata": {
        "id": "hfzm6YeCu_wV",
        "outputId": "69babbb9-32f6-4465-f742-fe3dad122095"
      },
      "outputs": [
        {
          "name": "stdout",
          "output_type": "stream",
          "text": [
            "8    1\n",
            "6    1\n",
            "4    1\n",
            "Name: playgolf, dtype: int32\n"
          ]
        }
      ],
      "source": [
        "print(ytest)"
      ]
    },
    {
      "cell_type": "code",
      "execution_count": null,
      "metadata": {
        "id": "vs9F1hbwu_wV"
      },
      "outputs": [],
      "source": [
        "ypred = gnb.predict(xtest)"
      ]
    },
    {
      "cell_type": "code",
      "execution_count": null,
      "metadata": {
        "id": "FN_BVe6ku_wV"
      },
      "outputs": [],
      "source": []
    },
    {
      "cell_type": "code",
      "execution_count": null,
      "metadata": {
        "id": "vvdOYFO_u_wW",
        "outputId": "3e61c35c-8250-4991-d1e1-4143c6b928eb"
      },
      "outputs": [
        {
          "name": "stdout",
          "output_type": "stream",
          "text": [
            "[1 0 1]\n"
          ]
        }
      ],
      "source": [
        "print(ypred)"
      ]
    },
    {
      "cell_type": "markdown",
      "metadata": {
        "id": "i5EnhOxOu_wW"
      },
      "source": [
        "## find confusion matrix and accuracy score"
      ]
    },
    {
      "cell_type": "code",
      "execution_count": null,
      "metadata": {
        "id": "uupSF4zZu_wW"
      },
      "outputs": [],
      "source": [
        "from sklearn.metrics import confusion_matrix,accuracy_score"
      ]
    },
    {
      "cell_type": "code",
      "execution_count": null,
      "metadata": {
        "id": "IR0pDIhfu_wW"
      },
      "outputs": [],
      "source": [
        "cm = confusion_matrix(ytest,ypred)"
      ]
    },
    {
      "cell_type": "code",
      "execution_count": null,
      "metadata": {
        "id": "lnZ6KfoWu_wW"
      },
      "outputs": [],
      "source": [
        "aas = accuracy_score(ytest,ypred)"
      ]
    },
    {
      "cell_type": "code",
      "execution_count": null,
      "metadata": {
        "id": "ms5z0gllu_wX",
        "outputId": "e41d7738-a282-4e79-daeb-71aff6d35690"
      },
      "outputs": [
        {
          "name": "stdout",
          "output_type": "stream",
          "text": [
            "confusion matrix\n",
            "[[0 0]\n",
            " [1 2]]\n",
            "\n",
            " accuracy score\n",
            "0.6666666666666666\n"
          ]
        }
      ],
      "source": [
        "print(\"confusion matrix\")\n",
        "print(cm)\n",
        "print(\"\\n accuracy score\")\n",
        "print(aas)"
      ]
    },
    {
      "cell_type": "markdown",
      "metadata": {
        "id": "oHO0PKT6u_wX"
      },
      "source": [
        "## predict output"
      ]
    },
    {
      "cell_type": "markdown",
      "metadata": {
        "id": "1lcOq087u_wX"
      },
      "source": [
        "p(outlook = sunny,temperature = cool, humdity = high ,wind = strong)"
      ]
    },
    {
      "cell_type": "code",
      "execution_count": null,
      "metadata": {
        "id": "q-gBcGlUu_wX",
        "outputId": "32ed7d2f-21c6-461e-f98f-c2b0487e1e0d"
      },
      "outputs": [
        {
          "name": "stderr",
          "output_type": "stream",
          "text": [
            "C:\\ProgramData\\Anaconda3\\lib\\site-packages\\sklearn\\base.py:450: UserWarning: X does not have valid feature names, but GaussianNB was fitted with feature names\n",
            "  warnings.warn(\n"
          ]
        },
        {
          "data": {
            "text/plain": [
              "array([0])"
            ]
          },
          "execution_count": 51,
          "metadata": {},
          "output_type": "execute_result"
        }
      ],
      "source": [
        "gnb.predict([[2,0,0,1]])"
      ]
    },
    {
      "cell_type": "markdown",
      "metadata": {
        "id": "ZEgQixSBu_wY"
      },
      "source": [
        "player can not play golf game"
      ]
    }
  ],
  "metadata": {
    "kernelspec": {
      "display_name": "Python 3 (ipykernel)",
      "language": "python",
      "name": "python3"
    },
    "language_info": {
      "codemirror_mode": {
        "name": "ipython",
        "version": 3
      },
      "file_extension": ".py",
      "mimetype": "text/x-python",
      "name": "python",
      "nbconvert_exporter": "python",
      "pygments_lexer": "ipython3",
      "version": "3.9.13"
    },
    "colab": {
      "provenance": [],
      "include_colab_link": true
    }
  },
  "nbformat": 4,
  "nbformat_minor": 0
}